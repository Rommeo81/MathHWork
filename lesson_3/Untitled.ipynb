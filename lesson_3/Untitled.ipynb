{
 "cells": [
  {
   "cell_type": "code",
   "execution_count": 12,
   "id": "a13fbee7",
   "metadata": {},
   "outputs": [
    {
     "name": "stdout",
     "output_type": "stream",
     "text": [
      "Сумма векторов [10, 10, 10] и [0, 0, -10] будет [10, 10, 0]\n"
     ]
    }
   ],
   "source": [
    "# создаём функцию \"SumVect\" выполняющую сложение векторов\n",
    "def SumVect(v1, v2):\n",
    "    return [i + j for i, j in zip(v1, v2)]\n",
    "\n",
    "# задаём значение дувух векторов\n",
    "vect1 = [10, 10, 10]\n",
    "vect2 = [0, 0, -10]\n",
    "\n",
    "# запускаем функцию и выводим все на экран\n",
    "print(f\"Сумма векторов {vect1} и {vect2} будет {SumVect(vect1, vect2)}\")"
   ]
  },
  {
   "cell_type": "code",
   "execution_count": null,
   "id": "394b2feb",
   "metadata": {},
   "outputs": [],
   "source": []
  }
 ],
 "metadata": {
  "kernelspec": {
   "display_name": "Python 3 (ipykernel)",
   "language": "python",
   "name": "python3"
  },
  "language_info": {
   "codemirror_mode": {
    "name": "ipython",
    "version": 3
   },
   "file_extension": ".py",
   "mimetype": "text/x-python",
   "name": "python",
   "nbconvert_exporter": "python",
   "pygments_lexer": "ipython3",
   "version": "3.9.7"
  }
 },
 "nbformat": 4,
 "nbformat_minor": 5
}
