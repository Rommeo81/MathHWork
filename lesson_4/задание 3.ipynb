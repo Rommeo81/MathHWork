{
 "cells": [
  {
   "cell_type": "code",
   "execution_count": 13,
   "id": "f81cbc43",
   "metadata": {},
   "outputs": [
    {
     "name": "stdout",
     "output_type": "stream",
     "text": [
      "3.14684\n"
     ]
    }
   ],
   "source": [
    "import numpy as np\n",
    "\n",
    "def get_pi(n):\n",
    "    \"\"\"\n",
    "    :param n: количество бросаний иголки\n",
    "    :return: Расчетное значение числа Пи\n",
    "    \"\"\"\n",
    "    #Получить n равномерное распределение линий (0, 1) случайное число Х, Y\n",
    "    X = np.random.uniform(0, 1, n)\n",
    "    Y = np.random.uniform(0, 1, n)\n",
    "    \n",
    "    #Количество успешных экспериментов, реализованных в векторной форме, намного быстрее,\n",
    "    #чем использование циклов for, особенно при большом n.\n",
    "    k = np.sum(X ** 2 + Y ** 2 <= 1)\n",
    "    \n",
    "    # получить оценку числа Пи и вернуться\n",
    "    pi = 4 * k / n\n",
    "    return pi\n",
    "\n",
    "print(get_pi(100000))"
   ]
  },
  {
   "cell_type": "code",
   "execution_count": null,
   "id": "ab971296",
   "metadata": {},
   "outputs": [],
   "source": []
  },
  {
   "cell_type": "code",
   "execution_count": null,
   "id": "e054f689",
   "metadata": {},
   "outputs": [],
   "source": []
  },
  {
   "cell_type": "code",
   "execution_count": null,
   "id": "6a017d80",
   "metadata": {},
   "outputs": [],
   "source": []
  },
  {
   "cell_type": "code",
   "execution_count": null,
   "id": "be8985e4",
   "metadata": {},
   "outputs": [],
   "source": []
  }
 ],
 "metadata": {
  "kernelspec": {
   "display_name": "Python 3 (ipykernel)",
   "language": "python",
   "name": "python3"
  },
  "language_info": {
   "codemirror_mode": {
    "name": "ipython",
    "version": 3
   },
   "file_extension": ".py",
   "mimetype": "text/x-python",
   "name": "python",
   "nbconvert_exporter": "python",
   "pygments_lexer": "ipython3",
   "version": "3.9.7"
  }
 },
 "nbformat": 4,
 "nbformat_minor": 5
}
