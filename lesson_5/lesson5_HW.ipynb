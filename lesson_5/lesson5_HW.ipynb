{
 "cells": [
  {
   "cell_type": "code",
   "execution_count": 7,
   "id": "0f1ef8c2",
   "metadata": {},
   "outputs": [],
   "source": [
    "%matplotlib inline\n",
    "import numpy as np\n",
    "\n",
    "import matplotlib.pyplot as plt\n",
    "import matplotlib.mlab as mlab"
   ]
  },
  {
   "cell_type": "code",
   "execution_count": 8,
   "id": "eb135ba2",
   "metadata": {},
   "outputs": [
    {
     "data": {
      "text/plain": [
       "12"
      ]
     },
     "execution_count": 8,
     "metadata": {},
     "output_type": "execute_result"
    }
   ],
   "source": [
    "#Задание 1.1\n",
    "#Напишите код, моделирующий выпадение поля в рулетке (с учетом поля зеро).\n",
    "np.random.randint(0, 36)"
   ]
  },
  {
   "cell_type": "code",
   "execution_count": 11,
   "id": "4a057ca9",
   "metadata": {},
   "outputs": [
    {
     "name": "stdout",
     "output_type": "stream",
     "text": [
      "орел выпал 61 раз, решка выпала 64 раз\n"
     ]
    }
   ],
   "source": [
    "#Задание 2.1\n",
    "#Напишите код, проверяющий любую из теорем сложения или умножения вероятности на примере рулетки или подбрасывания монетки.\n",
    "\n",
    "k = 0\n",
    "m = 0\n",
    "n = 125\n",
    "for i in range(0, n):\n",
    "    x = np.random.uniform(0, 10)\n",
    "    if x < 5:\n",
    "        k = k + 1\n",
    "    else:\n",
    "        m = m + 1\n",
    "print(f\"орел выпал {k} раз, решка выпала {m} раз\")"
   ]
  },
  {
   "cell_type": "code",
   "execution_count": 12,
   "id": "0dbbc2b6",
   "metadata": {},
   "outputs": [
    {
     "data": {
      "text/plain": [
       "(array([1., 0., 1., 5., 0., 0., 1., 1., 0., 1.]),\n",
       " array([-5.03440236, -3.60870542, -2.18300848, -0.75731154,  0.6683854 ,\n",
       "         2.09408234,  3.51977928,  4.94547622,  6.37117316,  7.7968701 ,\n",
       "         9.22256704]),\n",
       " <BarContainer object of 10 artists>)"
      ]
     },
     "execution_count": 12,
     "metadata": {},
     "output_type": "execute_result"
    },
    {
     "data": {
      "image/png": "[encoded data removed]",
      "text/plain": [
       "<Figure size 432x288 with 1 Axes>"
      ]
     },
     "metadata": {
      "needs_background": "light"
     },
     "output_type": "display_data"
    }
   ],
   "source": [
    "#Задание 2.2\n",
    "#Cгенерируйте десять выборок случайных чисел х0, …, х9. и постройте гистограмму распределения случайной суммы х0+х1+ …+ х9.\n",
    "#и постройте гистограмму распределения случайной суммы  +х0+ …+ х 9.\n",
    "\n",
    "\n",
    "x0 = np.random.randn(10)\n",
    "x1 = np.random.randn(10)\n",
    "x2 = np.random.randn(10)\n",
    "x3 = np.random.randn(10)\n",
    "x4 = np.random.randn(10)\n",
    "x5 = np.random.randn(10)\n",
    "x6 = np.random.randn(10)\n",
    "x7 = np.random.randn(10)\n",
    "x8 = np.random.randn(10)\n",
    "x9 = np.random.randn(10)\n",
    "x_sum = x0 + x1 + x2 + x3 + x4 + x5 + x6 + x7 + x8 + x9\n",
    "x_sum\n",
    "\n",
    "plt.hist(x_sum)\n"
   ]
  },
  {
   "cell_type": "code",
   "execution_count": 5,
   "id": "797d7516",
   "metadata": {},
   "outputs": [
    {
     "name": "stdout",
     "output_type": "stream",
     "text": [
      "384 1000 0.384\n"
     ]
    }
   ],
   "source": [
    "#Задание 3.1\n",
    "#Дополните код Монте-Карло последовательности независимых испытаний расчетом соответствующих вероятностей (через биномиальное распределение) и сравните результаты.\n",
    "#C (из 4 по 2) = 4!/2!(4-2)! = 432/2*2 = 24/4 = 6 P(из 4 по 2) = 6/2**4\n",
    "\n",
    "k = 0\n",
    "n = 1000\n",
    "a = np.random.randint(0, 2, n)\n",
    "b = np.random.randint(0, 2, n)\n",
    "c = np.random.randint(0, 2, n)\n",
    "d = np.random.randint(0, 2, n)\n",
    "x = a + b + c + d\n",
    "for i in range(0, n):\n",
    "    if x[i] == 2:\n",
    "        k = k + 1\n",
    "print(k, n, k/n)\n",
    "\n"
   ]
  },
  {
   "cell_type": "code",
   "execution_count": 6,
   "id": "6708c5ef",
   "metadata": {},
   "outputs": [
    {
     "data": {
      "text/plain": [
       "0.375"
      ]
     },
     "execution_count": 6,
     "metadata": {},
     "output_type": "execute_result"
    }
   ],
   "source": [
    "P = 6 / 2**4\n",
    "P"
   ]
  },
  {
   "cell_type": "code",
   "execution_count": 7,
   "id": "e534d696",
   "metadata": {},
   "outputs": [
    {
     "name": "stdout",
     "output_type": "stream",
     "text": [
      "66 200 0.33\n"
     ]
    }
   ],
   "source": [
    "#Задание 3.2\n",
    "# Повторите расчеты биномиальных коэффициентов и вероятностей k успехов в последовательности из n независимых испытаний,\n",
    "# взяв другие значения n и k.\n",
    "\n",
    "k = 1\n",
    "n = 200\n",
    "a = np.random.randint(0, 2, n)\n",
    "b = np.random.randint(0, 2, n)\n",
    "c = np.random.randint(0, 2, n)\n",
    "d = np.random.randint(0, 2, n)\n",
    "e = np.random.randint(0, 2, n)\n",
    "x = a + b + c + d + e\n",
    "for i in range(0, n):\n",
    "    if x[i] == 3:\n",
    "        k = k + 1\n",
    "print(k, n, k/n)"
   ]
  },
  {
   "cell_type": "code",
   "execution_count": 13,
   "id": "c44b41f3",
   "metadata": {},
   "outputs": [
    {
     "data": {
      "text/plain": [
       "0.3125"
      ]
     },
     "execution_count": 13,
     "metadata": {},
     "output_type": "execute_result"
    }
   ],
   "source": [
    "C_5_3 = 5*4*3*2 / (3*2*2)\n",
    "P_5_3 = C_5_3 / 2**5\n",
    "P_5_3"
   ]
  },
  {
   "cell_type": "code",
   "execution_count": 14,
   "id": "7a1604ea",
   "metadata": {},
   "outputs": [
    {
     "name": "stdout",
     "output_type": "stream",
     "text": [
      "015\n",
      "051\n",
      "105\n",
      "150\n",
      "501\n",
      "510\n"
     ]
    }
   ],
   "source": [
    "#Задание 4\n",
    "#Из урока по комбинаторике повторите расчеты, сгенерировав возможные варианты перестановок для других значений n и k\n",
    "\n",
    "import itertools\n",
    "\n",
    "for p in itertools.permutations('015', 3):\n",
    "    print(''.join(str(x) for x in p))"
   ]
  },
  {
   "cell_type": "code",
   "execution_count": 16,
   "id": "0be7cdb4",
   "metadata": {},
   "outputs": [
    {
     "name": "stdout",
     "output_type": "stream",
     "text": [
      "012\n",
      "013\n",
      "014\n",
      "023\n",
      "024\n",
      "034\n",
      "123\n",
      "124\n",
      "134\n",
      "234\n"
     ]
    }
   ],
   "source": [
    "for p in itertools.combinations('01234', 3):\n",
    "    print(''.join(p))"
   ]
  },
  {
   "cell_type": "code",
   "execution_count": 24,
   "id": "564b410d",
   "metadata": {},
   "outputs": [
    {
     "name": "stdout",
     "output_type": "stream",
     "text": [
      "0.7310846477876305 0.1395225900368754\n",
      "0.7310846477876307 0.13952259003687503\n",
      "[[1.         0.92649575]\n",
      " [0.92649575 1.        ]]\n"
     ]
    },
    {
     "data": {
      "image/png": "[encoded data removed]",
      "text/plain": [
       "<Figure size 432x288 with 1 Axes>"
      ]
     },
     "metadata": {
      "needs_background": "light"
     },
     "output_type": "display_data"
    }
   ],
   "source": [
    "#Задание 5\n",
    "#Дополните код расчетом коэффициента корреляции x и y по формуле:\n",
    "#R = sum((xi - xm)(yi - ym))/sqr(sum((xi - xm) 2) * (sum((yi - ym) 2)))\n",
    "\n",
    "np.warnings.filterwarnings('ignore')\n",
    "n = 130\n",
    "r = 0.7\n",
    "x = np.random.rand(n)\n",
    "y = r*x + (1 - r)*np.random.rand(n)\n",
    "\n",
    "plt.plot(x, y, 'o')\n",
    "plt.xlabel('x')\n",
    "plt.ylabel('y')\n",
    "plt.grid(True)\n",
    "\n",
    "a = (np.sum(x)*np.sum(y) - n*np.sum(x*y))/(np.sum(x)*np.sum(x) - n*np.sum(x*x))\n",
    "b = (np.sum(y) - a*np.sum(x))/n\n",
    "\n",
    "A = np.vstack([x, np.ones(len(x))]).T\n",
    "a1, b1 = np.linalg.lstsq(A, y)[0]\n",
    "c = np.corrcoef(x, y)\n",
    "\n",
    "print(a, b)\n",
    "print(a1, b1)\n",
    "print(c)\n",
    "\n",
    "plt.plot([0, 1], [b, a + b])\n",
    "plt.show()"
   ]
  },
  {
   "cell_type": "code",
   "execution_count": null,
   "id": "d2c2d368",
   "metadata": {},
   "outputs": [],
   "source": []
  },
  {
   "cell_type": "code",
   "execution_count": null,
   "id": "7013acf5",
   "metadata": {},
   "outputs": [],
   "source": []
  }
 ],
 "metadata": {
  "kernelspec": {
   "display_name": "Python 3 (ipykernel)",
   "language": "python",
   "name": "python3"
  },
  "language_info": {
   "codemirror_mode": {
    "name": "ipython",
    "version": 3
   },
   "file_extension": ".py",
   "mimetype": "text/x-python",
   "name": "python",
   "nbconvert_exporter": "python",
   "pygments_lexer": "ipython3",
   "version": "3.9.7"
  }
 },
 "nbformat": 4,
 "nbformat_minor": 5
}
